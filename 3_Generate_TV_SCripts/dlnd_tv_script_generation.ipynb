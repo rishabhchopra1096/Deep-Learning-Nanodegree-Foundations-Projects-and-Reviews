{
 "cells": [
  {
   "cell_type": "markdown",
   "metadata": {},
   "source": [
    "# TV Script Generation\n",
    "In this project, you'll generate your own [Simpsons](https://en.wikipedia.org/wiki/The_Simpsons) TV scripts using RNNs.  You'll be using part of the [Simpsons dataset](https://www.kaggle.com/wcukierski/the-simpsons-by-the-data) of scripts from 27 seasons.  The Neural Network you'll build will generate a new TV script for a scene at [Moe's Tavern](https://simpsonswiki.com/wiki/Moe's_Tavern).\n",
    "## Get the Data\n",
    "The data is already provided for you.  You'll be using a subset of the original dataset.  It consists of only the scenes in Moe's Tavern.  This doesn't include other versions of the tavern, like \"Moe's Cavern\", \"Flaming Moe's\", \"Uncle Moe's Family Feed-Bag\", etc.."
   ]
  },
  {
   "cell_type": "code",
   "execution_count": 1,
   "metadata": {},
   "outputs": [],
   "source": [
    "\"\"\"\n",
    "DON'T MODIFY ANYTHING IN THIS CELL\n",
    "\"\"\"\n",
    "import helper\n",
    "\n",
    "data_dir = './data/simpsons/moes_tavern_lines.txt'\n",
    "text = helper.load_data(data_dir)\n",
    "# Ignore notice, since we don't use it for analysing the data\n",
    "text = text[81:]"
   ]
  },
  {
   "cell_type": "markdown",
   "metadata": {},
   "source": [
    "## Explore the Data\n",
    "Play around with `view_sentence_range` to view different parts of the data."
   ]
  },
  {
   "cell_type": "code",
   "execution_count": 2,
   "metadata": {},
   "outputs": [
    {
     "name": "stdout",
     "output_type": "stream",
     "text": [
      "Dataset Stats\n",
      "Roughly the number of unique words: 11492\n",
      "Number of scenes: 262\n",
      "Average number of sentences in each scene: 15.248091603053435\n",
      "Number of lines: 4257\n",
      "Average number of words in each line: 11.50434578341555\n",
      "\n",
      "The sentences 0 to 10:\n",
      "Moe_Szyslak: (INTO PHONE) Moe's Tavern. Where the elite meet to drink.\n",
      "Bart_Simpson: Eh, yeah, hello, is Mike there? Last name, Rotch.\n",
      "Moe_Szyslak: (INTO PHONE) Hold on, I'll check. (TO BARFLIES) Mike Rotch. Mike Rotch. Hey, has anybody seen Mike Rotch, lately?\n",
      "Moe_Szyslak: (INTO PHONE) Listen you little puke. One of these days I'm gonna catch you, and I'm gonna carve my name on your back with an ice pick.\n",
      "Moe_Szyslak: What's the matter Homer? You're not your normal effervescent self.\n",
      "Homer_Simpson: I got my problems, Moe. Give me another one.\n",
      "Moe_Szyslak: Homer, hey, you should not drink to forget your problems.\n",
      "Barney_Gumble: Yeah, you should only drink to enhance your social skills.\n",
      "\n",
      "\n"
     ]
    }
   ],
   "source": [
    "view_sentence_range = (0, 10)\n",
    "\n",
    "\"\"\"\n",
    "DON'T MODIFY ANYTHING IN THIS CELL\n",
    "\"\"\"\n",
    "import numpy as np\n",
    "\n",
    "print('Dataset Stats')\n",
    "print('Roughly the number of unique words: {}'.format(len({word: None for word in text.split()})))\n",
    "scenes = text.split('\\n\\n')\n",
    "print('Number of scenes: {}'.format(len(scenes)))\n",
    "sentence_count_scene = [scene.count('\\n') for scene in scenes]\n",
    "print('Average number of sentences in each scene: {}'.format(np.average(sentence_count_scene)))\n",
    "\n",
    "sentences = [sentence for scene in scenes for sentence in scene.split('\\n')]\n",
    "print('Number of lines: {}'.format(len(sentences)))\n",
    "word_count_sentence = [len(sentence.split()) for sentence in sentences]\n",
    "print('Average number of words in each line: {}'.format(np.average(word_count_sentence)))\n",
    "\n",
    "print()\n",
    "print('The sentences {} to {}:'.format(*view_sentence_range))\n",
    "print('\\n'.join(text.split('\\n')[view_sentence_range[0]:view_sentence_range[1]]))"
   ]
  },
  {
   "cell_type": "markdown",
   "metadata": {},
   "source": [
    "## Implement Preprocessing Functions\n",
    "The first thing to do to any dataset is preprocessing.  Implement the following preprocessing functions below:\n",
    "- Lookup Table\n",
    "- Tokenize Punctuation\n",
    "\n",
    "### Lookup Table\n",
    "To create a word embedding, you first need to transform the words to ids.  In this function, create two dictionaries:\n",
    "- Dictionary to go from the words to an id, we'll call `vocab_to_int`\n",
    "- Dictionary to go from the id to word, we'll call `int_to_vocab`\n",
    "\n",
    "Return these dictionaries in the following tuple `(vocab_to_int, int_to_vocab)`"
   ]
  },
  {
   "cell_type": "code",
   "execution_count": 3,
   "metadata": {},
   "outputs": [
    {
     "name": "stdout",
     "output_type": "stream",
     "text": [
      "Tests Passed\n"
     ]
    }
   ],
   "source": [
    "import numpy as np\n",
    "import problem_unittests as tests\n",
    "\n",
    "def create_lookup_tables(text):\n",
    "    \"\"\"\n",
    "    Create lookup tables for vocabulary\n",
    "    :param text: The text of tv scripts split into words\n",
    "    :return: A tuple of dicts (vocab_to_int, int_to_vocab)\n",
    "    \"\"\"\n",
    "    vocabs       = set(text)\n",
    "    vocab_to_int = {v: i for i, v in enumerate(vocabs)}\n",
    "    int_to_vocab = {i: v for i, v in enumerate(vocabs)}\n",
    "    return (vocab_to_int, int_to_vocab)\n",
    "\n",
    "\n",
    "\"\"\"\n",
    "DON'T MODIFY ANYTHING IN THIS CELL THAT IS BELOW THIS LINE\n",
    "\"\"\"\n",
    "tests.test_create_lookup_tables(create_lookup_tables)"
   ]
  },
  {
   "cell_type": "markdown",
   "metadata": {},
   "source": [
    "### Tokenize Punctuation\n",
    "We'll be splitting the script into a word array using spaces as delimiters.  However, punctuations like periods and exclamation marks make it hard for the neural network to distinguish between the word \"bye\" and \"bye!\".\n",
    "\n",
    "Implement the function `token_lookup` to return a dict that will be used to tokenize symbols like \"!\" into \"||Exclamation_Mark||\".  Create a dictionary for the following symbols where the symbol is the key and value is the token:\n",
    "- Period ( . )\n",
    "- Comma ( , )\n",
    "- Quotation Mark ( \" )\n",
    "- Semicolon ( ; )\n",
    "- Exclamation mark ( ! )\n",
    "- Question mark ( ? )\n",
    "- Left Parentheses ( ( )\n",
    "- Right Parentheses ( ) )\n",
    "- Dash ( -- )\n",
    "- Return ( \\n )\n",
    "\n",
    "This dictionary will be used to token the symbols and add the delimiter (space) around it.  This separates the symbols as it's own word, making it easier for the neural network to predict on the next word. Make sure you don't use a token that could be confused as a word. Instead of using the token \"dash\", try using something like \"||dash||\"."
   ]
  },
  {
   "cell_type": "code",
   "execution_count": 4,
   "metadata": {},
   "outputs": [
    {
     "name": "stdout",
     "output_type": "stream",
     "text": [
      "Tests Passed\n"
     ]
    }
   ],
   "source": [
    "TOKEN_TABLE = {\n",
    "    k: '||{0}||'.format(v) for k, v in {\n",
    "        '.'  : 'period',\n",
    "        ','  : 'comma',\n",
    "        '\"'  : 'quote',\n",
    "        ';'  : 'semicolon',\n",
    "        '!'  : 'exclamation_mark',\n",
    "        '?'  : 'question_mark',\n",
    "        '('  : 'parentheses_left',\n",
    "        ')'  : 'parentheses_right',\n",
    "        '--' : 'dash',\n",
    "        '\\n' : 'return'\n",
    "    }.items()\n",
    "}\n",
    "\n",
    "def token_lookup():\n",
    "    \"\"\"\n",
    "    Generate a dict to turn punctuation into a token.\n",
    "    :return: Tokenize dictionary where the key is the punctuation and the value is the token\n",
    "    \"\"\"\n",
    "    return TOKEN_TABLE\n",
    "\n",
    "\"\"\"\n",
    "DON'T MODIFY ANYTHING IN THIS CELL THAT IS BELOW THIS LINE\n",
    "\"\"\"\n",
    "tests.test_tokenize(token_lookup)"
   ]
  },
  {
   "cell_type": "markdown",
   "metadata": {},
   "source": [
    "## Preprocess all the data and save it\n",
    "Running the code cell below will preprocess all the data and save it to file."
   ]
  },
  {
   "cell_type": "code",
   "execution_count": 5,
   "metadata": {
    "collapsed": true
   },
   "outputs": [],
   "source": [
    "\"\"\"\n",
    "DON'T MODIFY ANYTHING IN THIS CELL\n",
    "\"\"\"\n",
    "# Preprocess Training, Validation, and Testing Data\n",
    "helper.preprocess_and_save_data(data_dir, token_lookup, create_lookup_tables)"
   ]
  },
  {
   "cell_type": "markdown",
   "metadata": {},
   "source": [
    "# Check Point\n",
    "This is your first checkpoint. If you ever decide to come back to this notebook or have to restart the notebook, you can start from here. The preprocessed data has been saved to disk."
   ]
  },
  {
   "cell_type": "code",
   "execution_count": 6,
   "metadata": {
    "collapsed": true
   },
   "outputs": [],
   "source": [
    "\"\"\"\n",
    "DON'T MODIFY ANYTHING IN THIS CELL\n",
    "\"\"\"\n",
    "import helper\n",
    "import numpy as np\n",
    "import problem_unittests as tests\n",
    "\n",
    "int_text, vocab_to_int, int_to_vocab, token_dict = helper.load_preprocess()"
   ]
  },
  {
   "cell_type": "markdown",
   "metadata": {},
   "source": [
    "## Build the Neural Network\n",
    "You'll build the components necessary to build a RNN by implementing the following functions below:\n",
    "- get_inputs\n",
    "- get_init_cell\n",
    "- get_embed\n",
    "- build_rnn\n",
    "- build_nn\n",
    "- get_batches\n",
    "\n",
    "### Check the Version of TensorFlow and Access to GPU"
   ]
  },
  {
   "cell_type": "code",
   "execution_count": 7,
   "metadata": {},
   "outputs": [
    {
     "name": "stdout",
     "output_type": "stream",
     "text": [
      "TensorFlow Version: 1.0.0\n"
     ]
    },
    {
     "name": "stderr",
     "output_type": "stream",
     "text": [
      "//anaconda/envs/dlndf/lib/python3.6/site-packages/ipykernel_launcher.py:14: UserWarning: No GPU found. Please use a GPU to train your neural network.\n",
      "  \n"
     ]
    }
   ],
   "source": [
    "\"\"\"\n",
    "DON'T MODIFY ANYTHING IN THIS CELL\n",
    "\"\"\"\n",
    "from distutils.version import LooseVersion\n",
    "import warnings\n",
    "import tensorflow as tf\n",
    "\n",
    "# Check TensorFlow Version\n",
    "assert LooseVersion(tf.__version__) >= LooseVersion('1.0'), 'Please use TensorFlow version 1.0 or newer'\n",
    "print('TensorFlow Version: {}'.format(tf.__version__))\n",
    "\n",
    "# Check for a GPU\n",
    "if not tf.test.gpu_device_name():\n",
    "    warnings.warn('No GPU found. Please use a GPU to train your neural network.')\n",
    "else:\n",
    "    print('Default GPU Device: {}'.format(tf.test.gpu_device_name()))"
   ]
  },
  {
   "cell_type": "markdown",
   "metadata": {},
   "source": [
    "### Input\n",
    "Implement the `get_inputs()` function to create TF Placeholders for the Neural Network.  It should create the following placeholders:\n",
    "- Input text placeholder named \"input\" using the [TF Placeholder](https://www.tensorflow.org/api_docs/python/tf/placeholder) `name` parameter.\n",
    "- Targets placeholder\n",
    "- Learning Rate placeholder\n",
    "\n",
    "Return the placeholders in the following tuple `(Input, Targets, LearningRate)`"
   ]
  },
  {
   "cell_type": "code",
   "execution_count": 8,
   "metadata": {},
   "outputs": [
    {
     "name": "stdout",
     "output_type": "stream",
     "text": [
      "Tests Passed\n"
     ]
    }
   ],
   "source": [
    "def get_inputs():\n",
    "    \"\"\"\n",
    "    Create TF Placeholders for input, targets, and learning rate.\n",
    "    :return: Tuple (input, targets, learning rate)\n",
    "    \"\"\"\n",
    "    inputs        = tf.placeholder(tf.int32, shape=(None, None), name='input')\n",
    "    targets       = tf.placeholder(tf.int32, shape=(None, None), name='targets')\n",
    "    learning_rate = tf.placeholder(tf.float32, shape=(None), name='learning_rate')\n",
    "    return (inputs, targets, learning_rate)\n",
    "\n",
    "\n",
    "\"\"\"\n",
    "DON'T MODIFY ANYTHING IN THIS CELL THAT IS BELOW THIS LINE\n",
    "\"\"\"\n",
    "tests.test_get_inputs(get_inputs)"
   ]
  },
  {
   "cell_type": "markdown",
   "metadata": {},
   "source": [
    "### Build RNN Cell and Initialize\n",
    "Stack one or more [`BasicLSTMCells`](https://www.tensorflow.org/api_docs/python/tf/contrib/rnn/BasicLSTMCell) in a [`MultiRNNCell`](https://www.tensorflow.org/api_docs/python/tf/contrib/rnn/MultiRNNCell).\n",
    "- The Rnn size should be set using `rnn_size`\n",
    "- Initalize Cell State using the MultiRNNCell's [`zero_state()`](https://www.tensorflow.org/api_docs/python/tf/contrib/rnn/MultiRNNCell#zero_state) function\n",
    "    - Apply the name \"initial_state\" to the initial state using [`tf.identity()`](https://www.tensorflow.org/api_docs/python/tf/identity)\n",
    "\n",
    "Return the cell and initial state in the following tuple `(Cell, InitialState)`"
   ]
  },
  {
   "cell_type": "code",
   "execution_count": 9,
   "metadata": {},
   "outputs": [
    {
     "name": "stdout",
     "output_type": "stream",
     "text": [
      "Tests Passed\n"
     ]
    }
   ],
   "source": [
    "LSTM_CELL_COUNT = 1\n",
    "\n",
    "def get_init_cell(batch_size, rnn_size):\n",
    "    \"\"\"\n",
    "    Create an RNN Cell and initialize it.\n",
    "    :param batch_size: Size of batches\n",
    "    :param rnn_size: Size of RNNs\n",
    "    :return: Tuple (cell, initialize state)\n",
    "    \"\"\"\n",
    "    lstm_cells  = [\n",
    "        tf.contrib.rnn.BasicLSTMCell(rnn_size) for i in range(0, LSTM_CELL_COUNT)\n",
    "    ]\n",
    "    rnn_cell = tf.contrib.rnn.MultiRNNCell(lstm_cells)\n",
    "    state    = tf.identity(\n",
    "        rnn_cell.zero_state(batch_size, tf.float32), name='initial_state'\n",
    "    )\n",
    "    return (rnn_cell, state)\n",
    "\n",
    "\n",
    "\"\"\"\n",
    "DON'T MODIFY ANYTHING IN THIS CELL THAT IS BELOW THIS LINE\n",
    "\"\"\"\n",
    "tests.test_get_init_cell(get_init_cell)"
   ]
  },
  {
   "cell_type": "markdown",
   "metadata": {},
   "source": [
    "### Word Embedding\n",
    "Apply embedding to `input_data` using TensorFlow.  Return the embedded sequence."
   ]
  },
  {
   "cell_type": "code",
   "execution_count": 10,
   "metadata": {},
   "outputs": [
    {
     "name": "stdout",
     "output_type": "stream",
     "text": [
      "Tests Passed\n"
     ]
    }
   ],
   "source": [
    "EMBED_MIN = -1\n",
    "EMBED_MAX = 1\n",
    "\n",
    "def get_embed(input_data, vocab_size, embed_dim):\n",
    "    \"\"\"\n",
    "    Create embedding for <input_data>.\n",
    "    :param input_data: TF placeholder for text input.\n",
    "    :param vocab_size: Number of words in vocabulary.\n",
    "    :param embed_dim: Number of embedding dimensions\n",
    "    :return: Embedded input.\n",
    "    \"\"\"\n",
    "    embedding = tf.Variable(\n",
    "        tf.random_uniform(\n",
    "            (vocab_size, embed_dim), minval=EMBED_MIN, maxval=EMBED_MAX\n",
    "        )\n",
    "    )\n",
    "    return tf.nn.embedding_lookup(embedding, input_data)\n",
    "\n",
    "\n",
    "\"\"\"\n",
    "DON'T MODIFY ANYTHING IN THIS CELL THAT IS BELOW THIS LINE\n",
    "\"\"\"\n",
    "tests.test_get_embed(get_embed)"
   ]
  },
  {
   "cell_type": "markdown",
   "metadata": {},
   "source": [
    "### Build RNN\n",
    "You created a RNN Cell in the `get_init_cell()` function.  Time to use the cell to create a RNN.\n",
    "- Build the RNN using the [`tf.nn.dynamic_rnn()`](https://www.tensorflow.org/api_docs/python/tf/nn/dynamic_rnn)\n",
    " - Apply the name \"final_state\" to the final state using [`tf.identity()`](https://www.tensorflow.org/api_docs/python/tf/identity)\n",
    "\n",
    "Return the outputs and final_state state in the following tuple `(Outputs, FinalState)` "
   ]
  },
  {
   "cell_type": "code",
   "execution_count": 11,
   "metadata": {},
   "outputs": [
    {
     "name": "stdout",
     "output_type": "stream",
     "text": [
      "Tests Passed\n"
     ]
    }
   ],
   "source": [
    "def build_rnn(cell, inputs):\n",
    "    \"\"\"\n",
    "    Create a RNN using a RNN Cell\n",
    "    :param cell: RNN Cell\n",
    "    :param inputs: Input text data\n",
    "    :return: Tuple (Outputs, Final State)\n",
    "    \"\"\"\n",
    "    outputs, state = tf.nn.dynamic_rnn(cell, inputs, dtype=tf.float32)\n",
    "    state          = tf.identity(state, name='final_state')\n",
    "    return (outputs, state)\n",
    "\n",
    "\n",
    "\"\"\"\n",
    "DON'T MODIFY ANYTHING IN THIS CELL THAT IS BELOW THIS LINE\n",
    "\"\"\"\n",
    "tests.test_build_rnn(build_rnn)"
   ]
  },
  {
   "cell_type": "markdown",
   "metadata": {},
   "source": [
    "### Build the Neural Network\n",
    "Apply the functions you implemented above to:\n",
    "- Apply embedding to `input_data` using your `get_embed(input_data, vocab_size, embed_dim)` function.\n",
    "- Build RNN using `cell` and your `build_rnn(cell, inputs)` function.\n",
    "- Apply a fully connected layer with a linear activation and `vocab_size` as the number of outputs.\n",
    "\n",
    "Return the logits and final state in the following tuple (Logits, FinalState) "
   ]
  },
  {
   "cell_type": "code",
   "execution_count": 12,
   "metadata": {},
   "outputs": [
    {
     "name": "stdout",
     "output_type": "stream",
     "text": [
      "Tests Passed\n"
     ]
    }
   ],
   "source": [
    "def build_nn(cell, rnn_size, input_data, vocab_size):\n",
    "    \"\"\"\n",
    "    Build part of the neural network\n",
    "    :param cell: RNN cell\n",
    "    :param rnn_size: Size of rnns\n",
    "    :param input_data: Input data\n",
    "    :param vocab_size: Vocabulary size\n",
    "    :return: Tuple (Logits, FinalState)\n",
    "    \"\"\"\n",
    "    embed          = get_embed(input_data, vocab_size, rnn_size)\n",
    "    outputs, state = build_rnn(cell, embed)\n",
    "    logits         = tf.contrib.layers.fully_connected(\n",
    "        outputs, num_outputs=vocab_size, activation_fn=None\n",
    "    )\n",
    "    return (logits, state)\n",
    "\n",
    "\n",
    "\"\"\"\n",
    "DON'T MODIFY ANYTHING IN THIS CELL THAT IS BELOW THIS LINE\n",
    "\"\"\"\n",
    "tests.test_build_nn(build_nn)"
   ]
  },
  {
   "cell_type": "markdown",
   "metadata": {},
   "source": [
    "### Batches\n",
    "Implement `get_batches` to create batches of input and targets using `int_text`.  The batches should be a Numpy array with the shape `(number of batches, 2, batch size, sequence length)`. Each batch contains two elements:\n",
    "- The first element is a single batch of **input** with the shape `[batch size, sequence length]`\n",
    "- The second element is a single batch of **targets** with the shape `[batch size, sequence length]`\n",
    "\n",
    "If you can't fill the last batch with enough data, drop the last batch.\n",
    "\n",
    "For exmple, `get_batches([1, 2, 3, 4, 5, 6, 7, 8, 9, 10, 11, 12, 13, 14, 15], 2, 3)` would return a Numpy array of the following:\n",
    "```\n",
    "[\n",
    "  # First Batch\n",
    "  [\n",
    "    # Batch of Input\n",
    "    [[ 1  2  3], [ 7  8  9]],\n",
    "    # Batch of targets\n",
    "    [[ 2  3  4], [ 8  9 10]]\n",
    "  ],\n",
    " \n",
    "  # Second Batch\n",
    "  [\n",
    "    # Batch of Input\n",
    "    [[ 4  5  6], [10 11 12]],\n",
    "    # Batch of targets\n",
    "    [[ 5  6  7], [11 12 13]]\n",
    "  ]\n",
    "]\n",
    "```"
   ]
  },
  {
   "cell_type": "code",
   "execution_count": 13,
   "metadata": {},
   "outputs": [
    {
     "name": "stdout",
     "output_type": "stream",
     "text": [
      "Tests Passed\n"
     ]
    }
   ],
   "source": [
    "def get_batches(int_text, batch_size, seq_length):\n",
    "    \"\"\"\n",
    "    Return batches of input and target\n",
    "    :param int_text: Text with the words replaced by their ids\n",
    "    :param batch_size: The size of batch\n",
    "    :param seq_length: The length of sequence\n",
    "    :return: Batches as a Numpy array\n",
    "    \"\"\"\n",
    "    # Adapted from https://github.com/udacity/deep-learning/blob/master/embeddings/utils.py#L28-L45\n",
    "    \n",
    "    batch_total = batch_size * seq_length\n",
    "    batch_count = int(len(int_text) / batch_total)\n",
    "\n",
    "    input_data  = np.array(int_text[: batch_count * batch_total])\n",
    "    target_data = np.array(int_text[1: batch_count * batch_total + 1])\n",
    "\n",
    "    input_batches  = np.split(input_data.reshape(batch_size, -1), batch_count, 1)\n",
    "    target_batches = np.split(target_data.reshape(batch_size, -1), batch_count, 1)\n",
    "\n",
    "    return np.array(\n",
    "        list(zip(input_batches, target_batches))\n",
    "    )\n",
    "\n",
    "\n",
    "\"\"\"\n",
    "DON'T MODIFY ANYTHING IN THIS CELL THAT IS BELOW THIS LINE\n",
    "\"\"\"\n",
    "tests.test_get_batches(get_batches)"
   ]
  },
  {
   "cell_type": "markdown",
   "metadata": {},
   "source": [
    "## Neural Network Training\n",
    "### Hyperparameters\n",
    "Tune the following parameters:\n",
    "\n",
    "- Set `num_epochs` to the number of epochs.\n",
    "- Set `batch_size` to the batch size.\n",
    "- Set `rnn_size` to the size of the RNNs.\n",
    "- Set `embed_dim` to the size of the embedding.\n",
    "- Set `seq_length` to the length of sequence.\n",
    "- Set `learning_rate` to the learning rate.\n",
    "- Set `show_every_n_batches` to the number of batches the neural network should print progress."
   ]
  },
  {
   "cell_type": "code",
   "execution_count": 14,
   "metadata": {
    "collapsed": true
   },
   "outputs": [],
   "source": [
    "# Number of Epochs\n",
    "num_epochs = 200\n",
    "# Batch Size\n",
    "batch_size = 128\n",
    "# RNN Size\n",
    "rnn_size = 256\n",
    "# Sequence Length\n",
    "seq_length = 16\n",
    "# Learning Rate\n",
    "learning_rate = 0.001\n",
    "# Show stats for every n number of batches\n",
    "show_every_n_batches = 20\n",
    "\n",
    "\"\"\"\n",
    "DON'T MODIFY ANYTHING IN THIS CELL THAT IS BELOW THIS LINE\n",
    "\"\"\"\n",
    "save_dir = './save'"
   ]
  },
  {
   "cell_type": "markdown",
   "metadata": {},
   "source": [
    "### Build the Graph\n",
    "Build the graph using the neural network you implemented."
   ]
  },
  {
   "cell_type": "code",
   "execution_count": 16,
   "metadata": {},
   "outputs": [],
   "source": [
    "\"\"\"\n",
    "DON'T MODIFY ANYTHING IN THIS CELL\n",
    "\"\"\"\n",
    "from tensorflow.contrib import seq2seq\n",
    "\n",
    "train_graph = tf.Graph()\n",
    "with train_graph.as_default():\n",
    "    vocab_size = len(int_to_vocab)\n",
    "    input_text, targets, lr = get_inputs()\n",
    "    input_data_shape = tf.shape(input_text)\n",
    "    cell, initial_state = get_init_cell(input_data_shape[0], rnn_size)\n",
    "    logits, final_state = build_nn(cell, rnn_size, input_text, vocab_size)\n",
    "\n",
    "    # Probabilities for generating words\n",
    "    probs = tf.nn.softmax(logits, name='probs')\n",
    "\n",
    "    # Loss function\n",
    "    cost = seq2seq.sequence_loss(\n",
    "        logits,\n",
    "        targets,\n",
    "        tf.ones([input_data_shape[0], input_data_shape[1]]))\n",
    "\n",
    "    # Optimizer\n",
    "    optimizer = tf.train.AdamOptimizer(lr)\n",
    "\n",
    "    # Gradient Clipping\n",
    "    gradients = optimizer.compute_gradients(cost)\n",
    "    capped_gradients = [(tf.clip_by_value(grad, -1., 1.), var) for grad, var in gradients]\n",
    "    train_op = optimizer.apply_gradients(capped_gradients)"
   ]
  },
  {
   "cell_type": "markdown",
   "metadata": {},
   "source": [
    "## Train\n",
    "Train the neural network on the preprocessed data.  If you have a hard time getting a good loss, check the [forms](https://discussions.udacity.com/) to see if anyone is having the same problem."
   ]
  },
  {
   "cell_type": "code",
   "execution_count": 17,
   "metadata": {},
   "outputs": [
    {
     "name": "stdout",
     "output_type": "stream",
     "text": [
      "Epoch   0 Batch    0/33   train_loss = 8.823\n",
      "Epoch   0 Batch   20/33   train_loss = 6.368\n",
      "Epoch   1 Batch    7/33   train_loss = 6.272\n",
      "Epoch   1 Batch   27/33   train_loss = 6.090\n",
      "Epoch   2 Batch   14/33   train_loss = 5.955\n",
      "Epoch   3 Batch    1/33   train_loss = 5.558\n",
      "Epoch   3 Batch   21/33   train_loss = 5.661\n",
      "Epoch   4 Batch    8/33   train_loss = 5.458\n",
      "Epoch   4 Batch   28/33   train_loss = 5.421\n",
      "Epoch   5 Batch   15/33   train_loss = 5.288\n",
      "Epoch   6 Batch    2/33   train_loss = 5.083\n",
      "Epoch   6 Batch   22/33   train_loss = 5.211\n",
      "Epoch   7 Batch    9/33   train_loss = 4.959\n",
      "Epoch   7 Batch   29/33   train_loss = 4.991\n",
      "Epoch   8 Batch   16/33   train_loss = 4.858\n",
      "Epoch   9 Batch    3/33   train_loss = 4.704\n",
      "Epoch   9 Batch   23/33   train_loss = 4.852\n",
      "Epoch  10 Batch   10/33   train_loss = 4.807\n",
      "Epoch  10 Batch   30/33   train_loss = 4.701\n",
      "Epoch  11 Batch   17/33   train_loss = 4.632\n",
      "Epoch  12 Batch    4/33   train_loss = 4.500\n",
      "Epoch  12 Batch   24/33   train_loss = 4.523\n",
      "Epoch  13 Batch   11/33   train_loss = 4.346\n",
      "Epoch  13 Batch   31/33   train_loss = 4.431\n",
      "Epoch  14 Batch   18/33   train_loss = 4.418\n",
      "Epoch  15 Batch    5/33   train_loss = 4.419\n",
      "Epoch  15 Batch   25/33   train_loss = 4.318\n",
      "Epoch  16 Batch   12/33   train_loss = 4.293\n",
      "Epoch  16 Batch   32/33   train_loss = 4.339\n",
      "Epoch  17 Batch   19/33   train_loss = 4.187\n",
      "Epoch  18 Batch    6/33   train_loss = 4.128\n",
      "Epoch  18 Batch   26/33   train_loss = 4.113\n",
      "Epoch  19 Batch   13/33   train_loss = 4.124\n",
      "Epoch  20 Batch    0/33   train_loss = 3.972\n",
      "Epoch  20 Batch   20/33   train_loss = 4.006\n",
      "Epoch  21 Batch    7/33   train_loss = 4.025\n",
      "Epoch  21 Batch   27/33   train_loss = 4.054\n",
      "Epoch  22 Batch   14/33   train_loss = 3.985\n",
      "Epoch  23 Batch    1/33   train_loss = 3.770\n",
      "Epoch  23 Batch   21/33   train_loss = 3.926\n",
      "Epoch  24 Batch    8/33   train_loss = 3.833\n",
      "Epoch  24 Batch   28/33   train_loss = 3.847\n",
      "Epoch  25 Batch   15/33   train_loss = 3.754\n",
      "Epoch  26 Batch    2/33   train_loss = 3.687\n",
      "Epoch  26 Batch   22/33   train_loss = 3.753\n",
      "Epoch  27 Batch    9/33   train_loss = 3.650\n",
      "Epoch  27 Batch   29/33   train_loss = 3.639\n",
      "Epoch  28 Batch   16/33   train_loss = 3.623\n",
      "Epoch  29 Batch    3/33   train_loss = 3.480\n",
      "Epoch  29 Batch   23/33   train_loss = 3.637\n",
      "Epoch  30 Batch   10/33   train_loss = 3.560\n",
      "Epoch  30 Batch   30/33   train_loss = 3.538\n",
      "Epoch  31 Batch   17/33   train_loss = 3.482\n",
      "Epoch  32 Batch    4/33   train_loss = 3.420\n",
      "Epoch  32 Batch   24/33   train_loss = 3.465\n",
      "Epoch  33 Batch   11/33   train_loss = 3.280\n",
      "Epoch  33 Batch   31/33   train_loss = 3.386\n",
      "Epoch  34 Batch   18/33   train_loss = 3.368\n",
      "Epoch  35 Batch    5/33   train_loss = 3.352\n",
      "Epoch  35 Batch   25/33   train_loss = 3.335\n",
      "Epoch  36 Batch   12/33   train_loss = 3.288\n",
      "Epoch  36 Batch   32/33   train_loss = 3.256\n",
      "Epoch  37 Batch   19/33   train_loss = 3.227\n",
      "Epoch  38 Batch    6/33   train_loss = 3.171\n",
      "Epoch  38 Batch   26/33   train_loss = 3.182\n",
      "Epoch  39 Batch   13/33   train_loss = 3.172\n",
      "Epoch  40 Batch    0/33   train_loss = 3.094\n",
      "Epoch  40 Batch   20/33   train_loss = 3.112\n",
      "Epoch  41 Batch    7/33   train_loss = 3.081\n",
      "Epoch  41 Batch   27/33   train_loss = 3.175\n",
      "Epoch  42 Batch   14/33   train_loss = 3.062\n",
      "Epoch  43 Batch    1/33   train_loss = 2.918\n",
      "Epoch  43 Batch   21/33   train_loss = 3.014\n",
      "Epoch  44 Batch    8/33   train_loss = 2.949\n",
      "Epoch  44 Batch   28/33   train_loss = 3.002\n",
      "Epoch  45 Batch   15/33   train_loss = 2.900\n",
      "Epoch  46 Batch    2/33   train_loss = 2.908\n",
      "Epoch  46 Batch   22/33   train_loss = 2.899\n",
      "Epoch  47 Batch    9/33   train_loss = 2.874\n",
      "Epoch  47 Batch   29/33   train_loss = 2.802\n",
      "Epoch  48 Batch   16/33   train_loss = 2.809\n",
      "Epoch  49 Batch    3/33   train_loss = 2.737\n",
      "Epoch  49 Batch   23/33   train_loss = 2.847\n",
      "Epoch  50 Batch   10/33   train_loss = 2.735\n",
      "Epoch  50 Batch   30/33   train_loss = 2.782\n",
      "Epoch  51 Batch   17/33   train_loss = 2.686\n",
      "Epoch  52 Batch    4/33   train_loss = 2.724\n",
      "Epoch  52 Batch   24/33   train_loss = 2.744\n",
      "Epoch  53 Batch   11/33   train_loss = 2.606\n",
      "Epoch  53 Batch   31/33   train_loss = 2.672\n",
      "Epoch  54 Batch   18/33   train_loss = 2.649\n",
      "Epoch  55 Batch    5/33   train_loss = 2.640\n",
      "Epoch  55 Batch   25/33   train_loss = 2.663\n",
      "Epoch  56 Batch   12/33   train_loss = 2.602\n",
      "Epoch  56 Batch   32/33   train_loss = 2.535\n",
      "Epoch  57 Batch   19/33   train_loss = 2.528\n",
      "Epoch  58 Batch    6/33   train_loss = 2.497\n",
      "Epoch  58 Batch   26/33   train_loss = 2.507\n",
      "Epoch  59 Batch   13/33   train_loss = 2.489\n",
      "Epoch  60 Batch    0/33   train_loss = 2.466\n",
      "Epoch  60 Batch   20/33   train_loss = 2.463\n",
      "Epoch  61 Batch    7/33   train_loss = 2.443\n",
      "Epoch  61 Batch   27/33   train_loss = 2.528\n",
      "Epoch  62 Batch   14/33   train_loss = 2.401\n",
      "Epoch  63 Batch    1/33   train_loss = 2.316\n",
      "Epoch  63 Batch   21/33   train_loss = 2.356\n",
      "Epoch  64 Batch    8/33   train_loss = 2.339\n",
      "Epoch  64 Batch   28/33   train_loss = 2.385\n",
      "Epoch  65 Batch   15/33   train_loss = 2.285\n",
      "Epoch  66 Batch    2/33   train_loss = 2.330\n",
      "Epoch  66 Batch   22/33   train_loss = 2.277\n",
      "Epoch  67 Batch    9/33   train_loss = 2.350\n",
      "Epoch  67 Batch   29/33   train_loss = 2.241\n",
      "Epoch  68 Batch   16/33   train_loss = 2.292\n",
      "Epoch  69 Batch    3/33   train_loss = 2.200\n",
      "Epoch  69 Batch   23/33   train_loss = 2.253\n",
      "Epoch  70 Batch   10/33   train_loss = 2.160\n",
      "Epoch  70 Batch   30/33   train_loss = 2.249\n",
      "Epoch  71 Batch   17/33   train_loss = 2.176\n",
      "Epoch  72 Batch    4/33   train_loss = 2.186\n",
      "Epoch  72 Batch   24/33   train_loss = 2.182\n",
      "Epoch  73 Batch   11/33   train_loss = 2.057\n",
      "Epoch  73 Batch   31/33   train_loss = 2.075\n",
      "Epoch  74 Batch   18/33   train_loss = 2.082\n",
      "Epoch  75 Batch    5/33   train_loss = 2.058\n",
      "Epoch  75 Batch   25/33   train_loss = 2.073\n",
      "Epoch  76 Batch   12/33   train_loss = 2.056\n",
      "Epoch  76 Batch   32/33   train_loss = 1.978\n",
      "Epoch  77 Batch   19/33   train_loss = 1.986\n",
      "Epoch  78 Batch    6/33   train_loss = 1.959\n",
      "Epoch  78 Batch   26/33   train_loss = 1.972\n",
      "Epoch  79 Batch   13/33   train_loss = 1.976\n",
      "Epoch  80 Batch    0/33   train_loss = 1.955\n",
      "Epoch  80 Batch   20/33   train_loss = 1.958\n",
      "Epoch  81 Batch    7/33   train_loss = 1.934\n",
      "Epoch  81 Batch   27/33   train_loss = 1.989\n",
      "Epoch  82 Batch   14/33   train_loss = 1.852\n",
      "Epoch  83 Batch    1/33   train_loss = 1.825\n",
      "Epoch  83 Batch   21/33   train_loss = 1.844\n",
      "Epoch  84 Batch    8/33   train_loss = 1.851\n",
      "Epoch  84 Batch   28/33   train_loss = 1.850\n",
      "Epoch  85 Batch   15/33   train_loss = 1.774\n",
      "Epoch  86 Batch    2/33   train_loss = 1.829\n",
      "Epoch  86 Batch   22/33   train_loss = 1.771\n",
      "Epoch  87 Batch    9/33   train_loss = 1.867\n",
      "Epoch  87 Batch   29/33   train_loss = 1.715\n",
      "Epoch  88 Batch   16/33   train_loss = 1.770\n",
      "Epoch  89 Batch    3/33   train_loss = 1.689\n",
      "Epoch  89 Batch   23/33   train_loss = 1.726\n",
      "Epoch  90 Batch   10/33   train_loss = 1.683\n",
      "Epoch  90 Batch   30/33   train_loss = 1.767\n",
      "Epoch  91 Batch   17/33   train_loss = 1.664\n",
      "Epoch  92 Batch    4/33   train_loss = 1.704\n",
      "Epoch  92 Batch   24/33   train_loss = 1.714\n",
      "Epoch  93 Batch   11/33   train_loss = 1.618\n",
      "Epoch  93 Batch   31/33   train_loss = 1.616\n",
      "Epoch  94 Batch   18/33   train_loss = 1.593\n",
      "Epoch  95 Batch    5/33   train_loss = 1.586\n",
      "Epoch  95 Batch   25/33   train_loss = 1.618\n",
      "Epoch  96 Batch   12/33   train_loss = 1.610\n",
      "Epoch  96 Batch   32/33   train_loss = 1.518\n",
      "Epoch  97 Batch   19/33   train_loss = 1.528\n",
      "Epoch  98 Batch    6/33   train_loss = 1.514\n",
      "Epoch  98 Batch   26/33   train_loss = 1.551\n",
      "Epoch  99 Batch   13/33   train_loss = 1.556\n",
      "Epoch 100 Batch    0/33   train_loss = 1.539\n",
      "Epoch 100 Batch   20/33   train_loss = 1.518\n",
      "Epoch 101 Batch    7/33   train_loss = 1.507\n",
      "Epoch 101 Batch   27/33   train_loss = 1.577\n",
      "Epoch 102 Batch   14/33   train_loss = 1.426\n",
      "Epoch 103 Batch    1/33   train_loss = 1.443\n",
      "Epoch 103 Batch   21/33   train_loss = 1.431\n",
      "Epoch 104 Batch    8/33   train_loss = 1.435\n",
      "Epoch 104 Batch   28/33   train_loss = 1.425\n",
      "Epoch 105 Batch   15/33   train_loss = 1.367\n",
      "Epoch 106 Batch    2/33   train_loss = 1.438\n",
      "Epoch 106 Batch   22/33   train_loss = 1.360\n",
      "Epoch 107 Batch    9/33   train_loss = 1.481\n",
      "Epoch 107 Batch   29/33   train_loss = 1.318\n",
      "Epoch 108 Batch   16/33   train_loss = 1.382\n",
      "Epoch 109 Batch    3/33   train_loss = 1.317\n",
      "Epoch 109 Batch   23/33   train_loss = 1.315\n",
      "Epoch 110 Batch   10/33   train_loss = 1.290\n"
     ]
    },
    {
     "name": "stdout",
     "output_type": "stream",
     "text": [
      "Epoch 110 Batch   30/33   train_loss = 1.354\n",
      "Epoch 111 Batch   17/33   train_loss = 1.311\n",
      "Epoch 112 Batch    4/33   train_loss = 1.323\n",
      "Epoch 112 Batch   24/33   train_loss = 1.345\n",
      "Epoch 113 Batch   11/33   train_loss = 1.250\n",
      "Epoch 113 Batch   31/33   train_loss = 1.266\n",
      "Epoch 114 Batch   18/33   train_loss = 1.222\n",
      "Epoch 115 Batch    5/33   train_loss = 1.218\n",
      "Epoch 115 Batch   25/33   train_loss = 1.252\n",
      "Epoch 116 Batch   12/33   train_loss = 1.237\n",
      "Epoch 116 Batch   32/33   train_loss = 1.155\n",
      "Epoch 117 Batch   19/33   train_loss = 1.160\n",
      "Epoch 118 Batch    6/33   train_loss = 1.164\n",
      "Epoch 118 Batch   26/33   train_loss = 1.169\n",
      "Epoch 119 Batch   13/33   train_loss = 1.167\n",
      "Epoch 120 Batch    0/33   train_loss = 1.172\n",
      "Epoch 120 Batch   20/33   train_loss = 1.165\n",
      "Epoch 121 Batch    7/33   train_loss = 1.159\n",
      "Epoch 121 Batch   27/33   train_loss = 1.205\n",
      "Epoch 122 Batch   14/33   train_loss = 1.063\n",
      "Epoch 123 Batch    1/33   train_loss = 1.126\n",
      "Epoch 123 Batch   21/33   train_loss = 1.101\n",
      "Epoch 124 Batch    8/33   train_loss = 1.100\n",
      "Epoch 124 Batch   28/33   train_loss = 1.081\n",
      "Epoch 125 Batch   15/33   train_loss = 1.058\n",
      "Epoch 126 Batch    2/33   train_loss = 1.103\n",
      "Epoch 126 Batch   22/33   train_loss = 1.045\n",
      "Epoch 127 Batch    9/33   train_loss = 1.168\n",
      "Epoch 127 Batch   29/33   train_loss = 1.026\n",
      "Epoch 128 Batch   16/33   train_loss = 1.073\n",
      "Epoch 129 Batch    3/33   train_loss = 1.001\n",
      "Epoch 129 Batch   23/33   train_loss = 1.008\n",
      "Epoch 130 Batch   10/33   train_loss = 1.007\n",
      "Epoch 130 Batch   30/33   train_loss = 1.054\n",
      "Epoch 131 Batch   17/33   train_loss = 1.008\n",
      "Epoch 132 Batch    4/33   train_loss = 1.019\n",
      "Epoch 132 Batch   24/33   train_loss = 1.061\n",
      "Epoch 133 Batch   11/33   train_loss = 0.981\n",
      "Epoch 133 Batch   31/33   train_loss = 0.972\n",
      "Epoch 134 Batch   18/33   train_loss = 0.943\n",
      "Epoch 135 Batch    5/33   train_loss = 0.943\n",
      "Epoch 135 Batch   25/33   train_loss = 0.958\n",
      "Epoch 136 Batch   12/33   train_loss = 0.969\n",
      "Epoch 136 Batch   32/33   train_loss = 0.893\n",
      "Epoch 137 Batch   19/33   train_loss = 0.900\n",
      "Epoch 138 Batch    6/33   train_loss = 0.906\n",
      "Epoch 138 Batch   26/33   train_loss = 0.917\n",
      "Epoch 139 Batch   13/33   train_loss = 0.920\n",
      "Epoch 140 Batch    0/33   train_loss = 0.924\n",
      "Epoch 140 Batch   20/33   train_loss = 0.912\n",
      "Epoch 141 Batch    7/33   train_loss = 0.916\n",
      "Epoch 141 Batch   27/33   train_loss = 0.959\n",
      "Epoch 142 Batch   14/33   train_loss = 0.845\n",
      "Epoch 143 Batch    1/33   train_loss = 0.894\n",
      "Epoch 143 Batch   21/33   train_loss = 0.891\n",
      "Epoch 144 Batch    8/33   train_loss = 0.875\n",
      "Epoch 144 Batch   28/33   train_loss = 0.854\n",
      "Epoch 145 Batch   15/33   train_loss = 0.829\n",
      "Epoch 146 Batch    2/33   train_loss = 0.868\n",
      "Epoch 146 Batch   22/33   train_loss = 0.822\n",
      "Epoch 147 Batch    9/33   train_loss = 0.968\n",
      "Epoch 147 Batch   29/33   train_loss = 0.807\n",
      "Epoch 148 Batch   16/33   train_loss = 0.854\n",
      "Epoch 149 Batch    3/33   train_loss = 0.787\n",
      "Epoch 149 Batch   23/33   train_loss = 0.802\n",
      "Epoch 150 Batch   10/33   train_loss = 0.798\n",
      "Epoch 150 Batch   30/33   train_loss = 0.832\n",
      "Epoch 151 Batch   17/33   train_loss = 0.821\n",
      "Epoch 152 Batch    4/33   train_loss = 0.810\n",
      "Epoch 152 Batch   24/33   train_loss = 0.845\n",
      "Epoch 153 Batch   11/33   train_loss = 0.793\n",
      "Epoch 153 Batch   31/33   train_loss = 0.780\n",
      "Epoch 154 Batch   18/33   train_loss = 0.763\n",
      "Epoch 155 Batch    5/33   train_loss = 0.757\n",
      "Epoch 155 Batch   25/33   train_loss = 0.747\n",
      "Epoch 156 Batch   12/33   train_loss = 0.781\n",
      "Epoch 156 Batch   32/33   train_loss = 0.723\n",
      "Epoch 157 Batch   19/33   train_loss = 0.720\n",
      "Epoch 158 Batch    6/33   train_loss = 0.714\n",
      "Epoch 158 Batch   26/33   train_loss = 0.750\n",
      "Epoch 159 Batch   13/33   train_loss = 0.733\n",
      "Epoch 160 Batch    0/33   train_loss = 0.750\n",
      "Epoch 160 Batch   20/33   train_loss = 0.724\n",
      "Epoch 161 Batch    7/33   train_loss = 0.742\n",
      "Epoch 161 Batch   27/33   train_loss = 0.779\n",
      "Epoch 162 Batch   14/33   train_loss = 0.671\n",
      "Epoch 163 Batch    1/33   train_loss = 0.723\n",
      "Epoch 163 Batch   21/33   train_loss = 0.711\n",
      "Epoch 164 Batch    8/33   train_loss = 0.698\n",
      "Epoch 164 Batch   28/33   train_loss = 0.671\n",
      "Epoch 165 Batch   15/33   train_loss = 0.681\n",
      "Epoch 166 Batch    2/33   train_loss = 0.712\n",
      "Epoch 166 Batch   22/33   train_loss = 0.659\n",
      "Epoch 167 Batch    9/33   train_loss = 0.785\n",
      "Epoch 167 Batch   29/33   train_loss = 0.656\n",
      "Epoch 168 Batch   16/33   train_loss = 0.709\n",
      "Epoch 169 Batch    3/33   train_loss = 0.636\n",
      "Epoch 169 Batch   23/33   train_loss = 0.638\n",
      "Epoch 170 Batch   10/33   train_loss = 0.635\n",
      "Epoch 170 Batch   30/33   train_loss = 0.664\n",
      "Epoch 171 Batch   17/33   train_loss = 0.678\n",
      "Epoch 172 Batch    4/33   train_loss = 0.642\n",
      "Epoch 172 Batch   24/33   train_loss = 0.696\n",
      "Epoch 173 Batch   11/33   train_loss = 0.626\n",
      "Epoch 173 Batch   31/33   train_loss = 0.614\n",
      "Epoch 174 Batch   18/33   train_loss = 0.609\n",
      "Epoch 175 Batch    5/33   train_loss = 0.610\n",
      "Epoch 175 Batch   25/33   train_loss = 0.607\n",
      "Epoch 176 Batch   12/33   train_loss = 0.621\n",
      "Epoch 176 Batch   32/33   train_loss = 0.577\n",
      "Epoch 177 Batch   19/33   train_loss = 0.574\n",
      "Epoch 178 Batch    6/33   train_loss = 0.559\n",
      "Epoch 178 Batch   26/33   train_loss = 0.608\n",
      "Epoch 179 Batch   13/33   train_loss = 0.581\n",
      "Epoch 180 Batch    0/33   train_loss = 0.593\n",
      "Epoch 180 Batch   20/33   train_loss = 0.572\n",
      "Epoch 181 Batch    7/33   train_loss = 0.591\n",
      "Epoch 181 Batch   27/33   train_loss = 0.602\n",
      "Epoch 182 Batch   14/33   train_loss = 0.526\n",
      "Epoch 183 Batch    1/33   train_loss = 0.556\n",
      "Epoch 183 Batch   21/33   train_loss = 0.560\n",
      "Epoch 184 Batch    8/33   train_loss = 0.546\n",
      "Epoch 184 Batch   28/33   train_loss = 0.517\n",
      "Epoch 185 Batch   15/33   train_loss = 0.520\n",
      "Epoch 186 Batch    2/33   train_loss = 0.542\n",
      "Epoch 186 Batch   22/33   train_loss = 0.512\n",
      "Epoch 187 Batch    9/33   train_loss = 0.602\n",
      "Epoch 187 Batch   29/33   train_loss = 0.519\n",
      "Epoch 188 Batch   16/33   train_loss = 0.558\n",
      "Epoch 189 Batch    3/33   train_loss = 0.508\n",
      "Epoch 189 Batch   23/33   train_loss = 0.495\n",
      "Epoch 190 Batch   10/33   train_loss = 0.488\n",
      "Epoch 190 Batch   30/33   train_loss = 0.504\n",
      "Epoch 191 Batch   17/33   train_loss = 0.532\n",
      "Epoch 192 Batch    4/33   train_loss = 0.504\n",
      "Epoch 192 Batch   24/33   train_loss = 0.546\n",
      "Epoch 193 Batch   11/33   train_loss = 0.504\n",
      "Epoch 193 Batch   31/33   train_loss = 0.496\n",
      "Epoch 194 Batch   18/33   train_loss = 0.474\n",
      "Epoch 195 Batch    5/33   train_loss = 0.464\n",
      "Epoch 195 Batch   25/33   train_loss = 0.468\n",
      "Epoch 196 Batch   12/33   train_loss = 0.490\n",
      "Epoch 196 Batch   32/33   train_loss = 0.457\n",
      "Epoch 197 Batch   19/33   train_loss = 0.440\n",
      "Epoch 198 Batch    6/33   train_loss = 0.419\n",
      "Epoch 198 Batch   26/33   train_loss = 0.474\n",
      "Epoch 199 Batch   13/33   train_loss = 0.461\n",
      "Model Trained and Saved\n"
     ]
    }
   ],
   "source": [
    "\"\"\"\n",
    "DON'T MODIFY ANYTHING IN THIS CELL\n",
    "\"\"\"\n",
    "batches = get_batches(int_text, batch_size, seq_length)\n",
    "\n",
    "with tf.Session(graph=train_graph) as sess:\n",
    "    sess.run(tf.global_variables_initializer())\n",
    "\n",
    "    for epoch_i in range(num_epochs):\n",
    "        state = sess.run(initial_state, {input_text: batches[0][0]})\n",
    "\n",
    "        for batch_i, (x, y) in enumerate(batches):\n",
    "            feed = {\n",
    "                input_text: x,\n",
    "                targets: y,\n",
    "                initial_state: state,\n",
    "                lr: learning_rate}\n",
    "            train_loss, state, _ = sess.run([cost, final_state, train_op], feed)\n",
    "\n",
    "            # Show every <show_every_n_batches> batches\n",
    "            if (epoch_i * len(batches) + batch_i) % show_every_n_batches == 0:\n",
    "                print('Epoch {:>3} Batch {:>4}/{}   train_loss = {:.3f}'.format(\n",
    "                    epoch_i,\n",
    "                    batch_i,\n",
    "                    len(batches),\n",
    "                    train_loss))\n",
    "\n",
    "    # Save Model\n",
    "    saver = tf.train.Saver()\n",
    "    saver.save(sess, save_dir)\n",
    "    print('Model Trained and Saved')"
   ]
  },
  {
   "cell_type": "markdown",
   "metadata": {},
   "source": [
    "## Save Parameters\n",
    "Save `seq_length` and `save_dir` for generating a new TV script."
   ]
  },
  {
   "cell_type": "code",
   "execution_count": 18,
   "metadata": {
    "collapsed": true
   },
   "outputs": [],
   "source": [
    "\"\"\"\n",
    "DON'T MODIFY ANYTHING IN THIS CELL\n",
    "\"\"\"\n",
    "# Save parameters for checkpoint\n",
    "helper.save_params((seq_length, save_dir))"
   ]
  },
  {
   "cell_type": "markdown",
   "metadata": {},
   "source": [
    "# Checkpoint"
   ]
  },
  {
   "cell_type": "code",
   "execution_count": 19,
   "metadata": {
    "collapsed": true
   },
   "outputs": [],
   "source": [
    "\"\"\"\n",
    "DON'T MODIFY ANYTHING IN THIS CELL\n",
    "\"\"\"\n",
    "import tensorflow as tf\n",
    "import numpy as np\n",
    "import helper\n",
    "import problem_unittests as tests\n",
    "\n",
    "_, vocab_to_int, int_to_vocab, token_dict = helper.load_preprocess()\n",
    "seq_length, load_dir = helper.load_params()"
   ]
  },
  {
   "cell_type": "markdown",
   "metadata": {},
   "source": [
    "## Implement Generate Functions\n",
    "### Get Tensors\n",
    "Get tensors from `loaded_graph` using the function [`get_tensor_by_name()`](https://www.tensorflow.org/api_docs/python/tf/Graph#get_tensor_by_name).  Get the tensors using the following names:\n",
    "- \"input:0\"\n",
    "- \"initial_state:0\"\n",
    "- \"final_state:0\"\n",
    "- \"probs:0\"\n",
    "\n",
    "Return the tensors in the following tuple `(InputTensor, InitialStateTensor, FinalStateTensor, ProbsTensor)` "
   ]
  },
  {
   "cell_type": "code",
   "execution_count": 20,
   "metadata": {},
   "outputs": [
    {
     "name": "stdout",
     "output_type": "stream",
     "text": [
      "Tests Passed\n"
     ]
    }
   ],
   "source": [
    "def get_tensors(loaded_graph):\n",
    "    \"\"\"\n",
    "    Get input, initial state, final state, and probabilities tensor from <loaded_graph>\n",
    "    :param loaded_graph: TensorFlow graph loaded from file\n",
    "    :return: Tuple (InputTensor, InitialStateTensor, FinalStateTensor, ProbsTensor)\n",
    "    \"\"\"\n",
    "    inputs  = loaded_graph.get_tensor_by_name('input:0')\n",
    "    initial = loaded_graph.get_tensor_by_name('initial_state:0')\n",
    "    final   = loaded_graph.get_tensor_by_name('final_state:0')\n",
    "    probs   = loaded_graph.get_tensor_by_name('probs:0')\n",
    "    return (inputs, initial, final, probs)\n",
    "\n",
    "\n",
    "\"\"\"\n",
    "DON'T MODIFY ANYTHING IN THIS CELL THAT IS BELOW THIS LINE\n",
    "\"\"\"\n",
    "tests.test_get_tensors(get_tensors)"
   ]
  },
  {
   "cell_type": "markdown",
   "metadata": {},
   "source": [
    "### Choose Word\n",
    "Implement the `pick_word()` function to select the next word using `probabilities`."
   ]
  },
  {
   "cell_type": "code",
   "execution_count": 21,
   "metadata": {},
   "outputs": [
    {
     "name": "stdout",
     "output_type": "stream",
     "text": [
      "Tests Passed\n"
     ]
    }
   ],
   "source": [
    "def pick_word(probabilities, int_to_vocab):\n",
    "    \"\"\"\n",
    "    Pick the next word in the generated text\n",
    "    :param probabilities: Probabilites of the next word\n",
    "    :param int_to_vocab: Dictionary of word ids as the keys and words as the values\n",
    "    :return: String of the predicted word\n",
    "    \"\"\"\n",
    "    choices = np.random.choice(len(int_to_vocab), size=1, p=probabilities)\n",
    "    choice  = choices[0]\n",
    "    return int_to_vocab[choice]\n",
    "\n",
    "\n",
    "\"\"\"\n",
    "DON'T MODIFY ANYTHING IN THIS CELL THAT IS BELOW THIS LINE\n",
    "\"\"\"\n",
    "tests.test_pick_word(pick_word)"
   ]
  },
  {
   "cell_type": "markdown",
   "metadata": {},
   "source": [
    "## Generate TV Script\n",
    "This will generate the TV script for you.  Set `gen_length` to the length of TV script you want to generate."
   ]
  },
  {
   "cell_type": "code",
   "execution_count": 22,
   "metadata": {},
   "outputs": [
    {
     "name": "stdout",
     "output_type": "stream",
     "text": [
      "homer_simpson:(grumbling) lousy, who's too.\n",
      "moe_szyslak: really?(nervous chuckle)-- if you're ready to turn from sign in world war two. i've got a bottomless mug of wine.\n",
      "barney_gumble: don't yeah nothin'.\n",
      "barney_gumble: well, i'm in the grocery store the other night.\n",
      "larry: whatcha got riding on the police department's moonlight charity cruise. and i'm gonna do something i type that?\n",
      "detective_homer_simpson: i can't believe someone i think you, great?(to fall) one hundred and make dinner for world years i've got a title:\" pontiff no shirt. but how did you see the world while we're embarrassing on... homer don't make them in your love there's five out of five. in paris... hunky dory there, but would turn this friend named...\n",
      "barney_gumble: there's one time with no one.(laughs) he did me a little more...\n",
      "\n",
      "\n",
      "homer_simpson: hello, time was... what?\n",
      "detective_homer_simpson: i was supervising this bad. i like\n"
     ]
    }
   ],
   "source": [
    "gen_length = 200\n",
    "# homer_simpson, moe_szyslak, or Barney_Gumble\n",
    "prime_word = 'homer_simpson'\n",
    "\n",
    "\"\"\"\n",
    "DON'T MODIFY ANYTHING IN THIS CELL THAT IS BELOW THIS LINE\n",
    "\"\"\"\n",
    "loaded_graph = tf.Graph()\n",
    "with tf.Session(graph=loaded_graph) as sess:\n",
    "    # Load saved model\n",
    "    loader = tf.train.import_meta_graph(load_dir + '.meta')\n",
    "    loader.restore(sess, load_dir)\n",
    "\n",
    "    # Get Tensors from loaded model\n",
    "    input_text, initial_state, final_state, probs = get_tensors(loaded_graph)\n",
    "\n",
    "    # Sentences generation setup\n",
    "    gen_sentences = [prime_word + ':']\n",
    "    prev_state = sess.run(initial_state, {input_text: np.array([[1]])})\n",
    "\n",
    "    # Generate sentences\n",
    "    for n in range(gen_length):\n",
    "        # Dynamic Input\n",
    "        dyn_input = [[vocab_to_int[word] for word in gen_sentences[-seq_length:]]]\n",
    "        dyn_seq_length = len(dyn_input[0])\n",
    "\n",
    "        # Get Prediction\n",
    "        probabilities, prev_state = sess.run(\n",
    "            [probs, final_state],\n",
    "            {input_text: dyn_input, initial_state: prev_state})\n",
    "        \n",
    "        pred_word = pick_word(probabilities[dyn_seq_length-1], int_to_vocab)\n",
    "\n",
    "        gen_sentences.append(pred_word)\n",
    "    \n",
    "    # Remove tokens\n",
    "    tv_script = ' '.join(gen_sentences)\n",
    "    for key, token in token_dict.items():\n",
    "        ending = ' ' if key in ['\\n', '(', '\"'] else ''\n",
    "        tv_script = tv_script.replace(' ' + token.lower(), key)\n",
    "    tv_script = tv_script.replace('\\n ', '\\n')\n",
    "    tv_script = tv_script.replace('( ', '(')\n",
    "        \n",
    "    print(tv_script)"
   ]
  },
  {
   "cell_type": "markdown",
   "metadata": {},
   "source": [
    "# The TV Script is Nonsensical\n",
    "It's ok if the TV script doesn't make any sense.  We trained on less than a megabyte of text.  In order to get good results, you'll have to use a smaller vocabulary or get more data.  Luckly there's more data!  As we mentioned in the begging of this project, this is a subset of [another dataset](https://www.kaggle.com/wcukierski/the-simpsons-by-the-data).  We didn't have you train on all the data, because that would take too long.  However, you are free to train your neural network on all the data.  After you complete the project, of course.\n",
    "# Submitting This Project\n",
    "When submitting this project, make sure to run all the cells before saving the notebook. Save the notebook file as \"dlnd_tv_script_generation.ipynb\" and save it as a HTML file under \"File\" -> \"Download as\". Include the \"helper.py\" and \"problem_unittests.py\" files in your submission."
   ]
  }
 ],
 "metadata": {
  "kernelspec": {
   "display_name": "Python 3",
   "language": "python",
   "name": "python3"
  },
  "language_info": {
   "codemirror_mode": {
    "name": "ipython",
    "version": 3
   },
   "file_extension": ".py",
   "mimetype": "text/x-python",
   "name": "python",
   "nbconvert_exporter": "python",
   "pygments_lexer": "ipython3",
   "version": "3.6.1"
  },
  "widgets": {
   "state": {},
   "version": "1.1.2"
  }
 },
 "nbformat": 4,
 "nbformat_minor": 1
}
